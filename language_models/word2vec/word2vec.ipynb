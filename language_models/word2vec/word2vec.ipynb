# word2vec implementation and running from scratch
# based on Efficient Estimation of Word Representations in Vector Space,
2013, https: //arxiv.org/abs/1301.3781